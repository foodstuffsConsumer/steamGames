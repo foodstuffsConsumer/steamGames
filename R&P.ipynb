{
 "cells": [
  {
   "attachments": {},
   "cell_type": "markdown",
   "metadata": {},
   "source": [
    "# Researching and Planning\n",
    "\n",
    "Purpose: To find the most popular genre of video game.\n",
    "\n",
    "Missing Data: The dataset is highly unorganised, making it difficult to find certain information, including game genres.\n",
    "\n",
    "Stakeholders: Video game developers and publishers.\n",
    "\n",
    "Use: The information can be used by game developers to create a game which appeals to the largest portion of players."
   ]
  },
  {
   "attachments": {},
   "cell_type": "markdown",
   "metadata": {},
   "source": [
    "## Privacy Concerns\n",
    "\n",
    "Data Privacy (Source): \n",
    "\n",
    "Data Privacy (Application):\n",
    "\n",
    "Cyber Security: Any given application should encrypt sensitive user information and be regularly updated and patched, for the purpose of fixing potential security vulnerabilities. \n",
    "\n",
    "- User authentication is the process of verifying that a user attempting to access the application is who they claim to be.\n",
    "- Password hashing is the process of encoding passwords with an encryption program. In the event of a data breach, cybercriminals cannot access hashed passwords."
   ]
  }
 ],
 "metadata": {
  "kernelspec": {
   "display_name": "Python 3",
   "language": "python",
   "name": "python3"
  },
  "language_info": {
   "name": "python",
   "version": "3.9.2"
  },
  "orig_nbformat": 4
 },
 "nbformat": 4,
 "nbformat_minor": 2
}
